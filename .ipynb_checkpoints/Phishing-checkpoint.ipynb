{
 "cells": [
  {
   "cell_type": "markdown",
   "id": "4fc780d7",
   "metadata": {},
   "source": [
    "https://archive.ics.uci.edu/ml/datasets/phishing+websites\n",
    "\n",
    "# Business Understanding\n",
    "\n",
    "\n",
    "Suspected Phishing urls are submitted to PhishTank. They are classified by the \"community\" as being either actual phishes or not. Therefore, we have a classification task.\n",
    "\n",
    "What features could we use to try to use ML to predict valid from invalid phishes?\n",
    "\n",
    "We can see some valid phisheson PhishTank using this query: https://phishtank.org/phish_search.php?valid=y&active=All&Search=Search\n",
    "\n",
    "Here are some example phish url: \n",
    "- https://help-recovery-identity-support-international.web.id/confirmid.php\n",
    "- https://234565676868--3456556757.repl.co/\n",
    "- http://activate.facebook.fblogins.net/88adbao798283o8298398?login.asp\n",
    "- http://drive--google.com/luke.johnson\n",
    "- http://efax.hosting.com.mailru382.co/efaxdelivery/2017Dk4h325RE3\n",
    "\n",
    "Let's look at this one:\n",
    "\n",
    "- https://help-recovery-identity-support-international.web.id/confirmid.php\n",
    "\n",
    "We can break it into its URL pieces:\n",
    "- PATH: /confirmid.php\n",
    "  * \"Is it a .php?\"\n",
    "    - binary feature\n",
    "  * \"How long is the path?\"\n",
    "    - integer\n",
    "    - continuous\n",
    "  * \"How many unique characters in the path?\"\n",
    "- DOMAIN: help-recovery-identity-support-international.web.id\n",
    "  * text analytics, are there certain substrings that are giveaways of a phish?\n",
    "  * Is readable?\n",
    "  * Is there a top-level domain that is not the last entry in the list?\n",
    "  * count of subdomains?\n",
    "  * WHOIS lookup -- age of the domain?\n",
    "  * top-level domain\n",
    "- PROTOCOL: https://\n"
   ]
  }
 ],
 "metadata": {
  "kernelspec": {
   "display_name": "Python 3 (ipykernel)",
   "language": "python",
   "name": "python3"
  },
  "language_info": {
   "codemirror_mode": {
    "name": "ipython",
    "version": 3
   },
   "file_extension": ".py",
   "mimetype": "text/x-python",
   "name": "python",
   "nbconvert_exporter": "python",
   "pygments_lexer": "ipython3",
   "version": "3.9.7"
  }
 },
 "nbformat": 4,
 "nbformat_minor": 5
}
